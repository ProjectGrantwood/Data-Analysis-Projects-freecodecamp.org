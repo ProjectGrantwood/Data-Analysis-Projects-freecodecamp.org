{
 "cells": [
  {
   "cell_type": "code",
   "execution_count": null,
   "metadata": {},
   "outputs": [],
   "source": [
    "# To use this boilerplate, make sure to attend to:\n",
    "#\n",
    "#   First Cell (Markdown)\n",
    "#\n",
    "#       The project number\n",
    "#\n",
    "#   Second Cell (Markdown)\n",
    "#\n",
    "#       The link target for the project requirements\n",
    "#\n",
    "#   Third Cell (Python Code)\n",
    "#\n",
    "#       Any unused imports.\n",
    "#       Any sloppy imports (import the submodule or singular function and not the whole module where feasible/still readable; no \"import as *\", etc.)\n",
    "#\n",
    "#   Fourth Cell (Markdown)\n",
    "#\n",
    "#       The header - are you writing a function, or...?\n",
    "#\n",
    "#   Fifth Cell (Python Code)\n",
    "#\n",
    "#       Are all comments necessary? \n",
    "#       Are you really showcasing your knowledge of Python/data analysis with the code as written--did you do your due diligence?\n",
    "#       \"It works\" is not \"It is understood,\" and \"It is understood\" is not \"It is strong\" or \"It is best.\"\n",
    "#       If it feels like an amateurish solution, there's a good 70% chance it is.\n",
    "#       If it feels like a professional solution, there's a good 30% chance it isn't.\n",
    "#\n",
    "#   Cell 6+ (Python Code or Markdown)\n",
    "#\n",
    "#       Do all test cells have headers?\n",
    "#       Are all test cells commented?\n",
    "#       Does your testing reasonably capture use cases and/or misuse cases?\n",
    "#       Are cells with variable declarations sensible and/or even necessary?\n",
    "#       Did you delete any unused/scratchpaper cells?\n",
    "\n",
    "\n",
    "\n",
    "\n",
    "\n",
    "# DID YOU DELETE THIS CELL?\n"
   ]
  },
  {
   "cell_type": "markdown",
   "metadata": {},
   "source": [
    "# Data Analysis in Python\n",
    "\n",
    "## Curriculum Project \\_\n",
    "\n",
    "### from [FreeCodeCamp.org](https://www.freecodecamp.org)\n"
   ]
  },
  {
   "cell_type": "markdown",
   "metadata": {},
   "source": [
    "### [Click here for an Overview of Project Requirements](https://www.freecodecamp.org/learn/data-analysis-with-python/data-analysis-with-python-projects/demographic-data-analyzer)\n"
   ]
  },
  {
   "cell_type": "code",
   "execution_count": 2,
   "metadata": {},
   "outputs": [],
   "source": [
    "# Imports\n",
    "\n",
    "import pandas as pd\n"
   ]
  },
  {
   "cell_type": "markdown",
   "metadata": {},
   "source": [
    "## The function body:\n"
   ]
  },
  {
   "cell_type": "code",
   "execution_count": 2,
   "metadata": {},
   "outputs": [],
   "source": []
  }
 ],
 "metadata": {
  "kernelspec": {
   "display_name": "Python 3.11.0 64-bit",
   "language": "python",
   "name": "python3"
  },
  "language_info": {
   "codemirror_mode": {
    "name": "ipython",
    "version": 3
   },
   "file_extension": ".py",
   "mimetype": "text/x-python",
   "name": "python",
   "nbconvert_exporter": "python",
   "pygments_lexer": "ipython3",
   "version": "3.11.0"
  },
  "orig_nbformat": 4,
  "vscode": {
   "interpreter": {
    "hash": "4c4a3c6585647fea4a20f24b44be65ecfaf80ad5245fc9f49e4ad0d4ab0d6cf2"
   }
  }
 },
 "nbformat": 4,
 "nbformat_minor": 2
}
