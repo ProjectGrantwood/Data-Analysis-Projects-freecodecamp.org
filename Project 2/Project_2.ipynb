{
 "cells": [
  {
   "attachments": {},
   "cell_type": "markdown",
   "metadata": {},
   "source": [
    "# Certification Project 2: \"Demographic Data Analyzer\"\n",
    "___\n",
    "### from the Data Analysis With Python Certification at [FreeCodeCamp.org](https://www.freecodecamp.org)\n",
    "\n",
    "## Some important links:  \n",
    "\n",
    "- [Overview of Project Requirements](https://www.freecodecamp.org/learn/data-analysis-with-python/data-analysis-with-python-projects/demographic-data-analyzer)\n",
    "- [Passing submission hosted on Replit](https://replit.com/@ExPhilidelphiae/boilerplate-demographic-data-analyzer#demographic_data_analyzer.py)"
   ]
  },
  {
   "cell_type": "code",
   "execution_count": 2,
   "metadata": {},
   "outputs": [],
   "source": [
    "# Imports\n",
    "import pandas as pd\n",
    "# This file contains a few functions that make the code below more readable, more or less.\n",
    "from auxiliary import nearest_tenth, get_percentage, to_percent"
   ]
  },
  {
   "cell_type": "markdown",
   "metadata": {},
   "source": [
    "## The function body:\n"
   ]
  },
  {
   "cell_type": "code",
   "execution_count": 3,
   "metadata": {},
   "outputs": [],
   "source": [
    "def calculate_demographic_data(print_data=True):\n",
    "\n",
    "    df = pd.read_csv('adult.data.csv')\n",
    "\n",
    "    # How many of each race are represented in this dataset? This should be a Pandas series with race names as the index labels.\n",
    "    race_count = df['race'].value_counts()\n",
    "\n",
    "    # What is the average age of men?\n",
    "    average_age_men = nearest_tenth(df[df['sex'] == 'Male']['age'].mean())\n",
    "\n",
    "    # What is the percentage of people who have a Bachelor's degree?\n",
    "    percentage_bachelors = get_percentage(df['education'], 'Bachelors')\n",
    "\n",
    "    # What percentage of people with advanced education (`Bachelors`, `Masters`, or `Doctorate`) make more than 50K?\n",
    "    # What percentage of people without advanced education make more than 50K?\n",
    "    higher_education = df[df['education'].isin(\n",
    "        ['Bachelors', 'Masters', 'Doctorate'])]\n",
    "    lower_education = df[~df['education'].isin(\n",
    "        ['Bachelors', 'Masters', 'Doctorate'])]\n",
    "\n",
    "    # percentage with salary >50K\n",
    "    higher_education_rich = get_percentage(\n",
    "        higher_education['salary'], '>50K')\n",
    "    lower_education_rich = get_percentage(\n",
    "        lower_education['salary'], '>50K')\n",
    "\n",
    "    # What is the minimum number of hours a person works per week (hours-per-week feature)?\n",
    "    min_work_hours = df['hours-per-week'].min()\n",
    "\n",
    "    # What percentage of the people who work the minimum number of hours per week have a salary of >50K?\n",
    "    min_hours_workers = df[df['hours-per-week'] == min_work_hours]\n",
    "    rich_percentage = get_percentage(min_hours_workers['salary'], '>50K')\n",
    "\n",
    "    # What country has the highest percentage of people that earn >50K?\n",
    "    richest_by_country = to_percent(\n",
    "        df[df['salary'] == '>50K']['native-country'].value_counts() / df['native-country'].value_counts())\n",
    "    highest_earning_country_percentage = richest_by_country.max()\n",
    "    highest_earning_country = richest_by_country.index[richest_by_country == highest_earning_country_percentage][0]\n",
    "\n",
    "    # Identify the most popular occupation for those who earn >50K in India.\n",
    "    highest_earning_occupation = df[(df['salary'] == '>50K') & (\n",
    "        df['native-country'] == 'India')]['occupation'].value_counts()\n",
    "    top_IN_occupation = highest_earning_occupation.index[highest_earning_occupation == highest_earning_occupation.max(\n",
    "    )][0]\n",
    "\n",
    "    # DO NOT MODIFY BELOW THIS LINE - (says FreeCodeCamp!)\n",
    "\n",
    "    if print_data:\n",
    "        print(\"Number of each race:\\n\", race_count)\n",
    "        print(\"Average age of men:\", average_age_men)\n",
    "        print(f\"Percentage with Bachelors degrees: {percentage_bachelors}%\")\n",
    "        print(\n",
    "            f\"Percentage with higher education that earn >50K: {higher_education_rich}%\")\n",
    "        print(\n",
    "            f\"Percentage without higher education that earn >50K: {lower_education_rich}%\")\n",
    "        print(f\"Min work time: {min_work_hours} hours/week\")\n",
    "        print(\n",
    "            f\"Percentage of rich among those who work fewest hours: {rich_percentage}%\")\n",
    "        print(\"Country with highest percentage of rich:\", highest_earning_country)\n",
    "        print(\n",
    "            f\"Highest percentage of rich people in country: {highest_earning_country_percentage}%\")\n",
    "        print(\"Top occupations in India:\", top_IN_occupation)\n",
    "\n",
    "    return {\n",
    "        'race_count': race_count,\n",
    "        'average_age_men': average_age_men,\n",
    "        'percentage_bachelors': percentage_bachelors,\n",
    "        'higher_education_rich': higher_education_rich,\n",
    "        'lower_education_rich': lower_education_rich,\n",
    "        'min_work_hours': min_work_hours,\n",
    "        'rich_percentage': rich_percentage,\n",
    "        'highest_earning_country': highest_earning_country,\n",
    "        'highest_earning_country_percentage':\n",
    "        highest_earning_country_percentage,\n",
    "        'top_IN_occupation': top_IN_occupation\n",
    "    }"
   ]
  },
  {
   "cell_type": "markdown",
   "metadata": {},
   "source": [
    "## Test Function Output:\n"
   ]
  },
  {
   "cell_type": "code",
   "execution_count": 4,
   "metadata": {},
   "outputs": [
    {
     "data": {
      "text/plain": [
       "{'race_count': White                 27816\n",
       " Black                  3124\n",
       " Asian-Pac-Islander     1039\n",
       " Amer-Indian-Eskimo      311\n",
       " Other                   271\n",
       " Name: race, dtype: int64,\n",
       " 'average_age_men': 39.4,\n",
       " 'percentage_bachelors': 16.4,\n",
       " 'higher_education_rich': 46.5,\n",
       " 'lower_education_rich': 17.4,\n",
       " 'min_work_hours': 1,\n",
       " 'rich_percentage': 10.0,\n",
       " 'highest_earning_country': 'Iran',\n",
       " 'highest_earning_country_percentage': 41.9,\n",
       " 'top_IN_occupation': 'Prof-specialty'}"
      ]
     },
     "execution_count": 4,
     "metadata": {},
     "output_type": "execute_result"
    }
   ],
   "source": [
    "calculate_demographic_data(False)"
   ]
  }
 ],
 "metadata": {
  "kernelspec": {
   "display_name": "Python 3.11.0 64-bit",
   "language": "python",
   "name": "python3"
  },
  "language_info": {
   "codemirror_mode": {
    "name": "ipython",
    "version": 3
   },
   "file_extension": ".py",
   "mimetype": "text/x-python",
   "name": "python",
   "nbconvert_exporter": "python",
   "pygments_lexer": "ipython3",
   "version": "3.11.0 (main, Oct 24 2022, 18:26:48) [MSC v.1933 64 bit (AMD64)]"
  },
  "orig_nbformat": 4,
  "vscode": {
   "interpreter": {
    "hash": "4c4a3c6585647fea4a20f24b44be65ecfaf80ad5245fc9f49e4ad0d4ab0d6cf2"
   }
  }
 },
 "nbformat": 4,
 "nbformat_minor": 2
}
