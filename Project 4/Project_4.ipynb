{
 "cells": [
  {
   "attachments": {},
   "cell_type": "markdown",
   "metadata": {},
   "source": [
    "# Certification Project 4: \"Page View Time Series Visualizer\"\n",
    "___\n",
    "### from the Data Analysis With Python Certification at [FreeCodeCamp.org](https://www.freecodecamp.org)\n",
    "\n",
    "## Some important links:  \n",
    "\n",
    "- [Overview of Project Requirements](https://www.freecodecamp.org/learn/data-analysis-with-python/data-analysis-with-python-projects/page-view-time-series-visualizer)\n",
    "- [Passing submission hosted on Replit](https://replit.com/@ExPhilidelphiae/boilerplate-page-view-time-series-visualizer#time_series_visualizer.py)"
   ]
  },
  {
   "cell_type": "code",
   "execution_count": null,
   "metadata": {},
   "outputs": [],
   "source": [
    "# Imports\n",
    "\n",
    "import matplotlib.pyplot as plt\n",
    "import pandas as pd\n",
    "import seaborn as sns\n",
    "from pandas.plotting import register_matplotlib_converters\n",
    "register_matplotlib_converters()\n"
   ]
  },
  {
   "cell_type": "code",
   "execution_count": null,
   "metadata": {},
   "outputs": [],
   "source": [
    "df = pd.read_csv('fcc-forum-pageviews.csv', parse_dates=True, index_col='date')\n",
    "\n",
    "# Clean data\n",
    "# The above comment is referring to the project requirement that we trim the\n",
    "# top and bottom 2.5% of page view values.\n",
    "\n",
    "df = df[(df['value'] >= df['value'].quantile(0.025)) &\n",
    "        (df['value'] <= df['value'].quantile(0.975))]\n",
    "\n",
    "\n",
    "# these are needed in a couple of the functions below.\n",
    "month_labels = ['January', 'February', 'March', 'April', 'May', 'June',\n",
    "                'July', 'August', 'September', 'October', 'November', 'December']\n"
   ]
  },
  {
   "cell_type": "markdown",
   "metadata": {},
   "source": [
    "# Draw a line plot:\n",
    "\n",
    "From the project requirements page:\n",
    "\n",
    "- title should be 'Daily freeCodeCamp Forum Page Views 5/2016-12/2019'\n",
    "- x label should be 'Date'\n",
    "- y label should be 'Page Views'\n"
   ]
  },
  {
   "cell_type": "code",
   "execution_count": null,
   "metadata": {},
   "outputs": [],
   "source": [
    "def draw_line_plot():\n",
    "    fig, ax = plt.subplots(figsize=(16, 5))\n",
    "    ax.plot(df.index, df['value'], 'w', linewidth=1)\n",
    "    ax.set_xlabel('Date')\n",
    "    ax.set_ylabel('Page Views')\n",
    "    ax.set_title('Daily freeCodeCamp Forum Page Views 5/2016-12/2019')\n",
    "    fig.savefig('line_plot.png')\n",
    "    return fig\n",
    "\n",
    "# test case:\n",
    "\n",
    "draw_line_plot()"
   ]
  },
  {
   "attachments": {},
   "cell_type": "markdown",
   "metadata": {},
   "source": [
    "# Draw a bar plot:\n",
    "\n",
    "From the project requirements page:\n",
    "\n",
    "- Show average daily page views by month, grouped by year\n",
    "- legend should show month labels and be titled 'Months'\n",
    "- x label should be 'Years'\n",
    "- y label should be 'Average Page Views'\n"
   ]
  },
  {
   "cell_type": "code",
   "execution_count": null,
   "metadata": {},
   "outputs": [],
   "source": [
    "def draw_bar_plot():\n",
    "\n",
    "    # Copy and modify data for monthly bar plot\n",
    "    # Extract months and years to individual columns with a lambda\n",
    "    # retitle the columns so they'll match the project requirements\n",
    "    df_bar = pd.DataFrame(\n",
    "        data={\n",
    "            'Years': df.index.to_series().apply(lambda t: t.year),\n",
    "            'Month': df.index.to_series().apply(lambda t: t.month),\n",
    "            'Average Page Views': df['value']\n",
    "        }\n",
    "    )\n",
    "\n",
    "    # use groupby to select each unique month/year combination, returning the mean.\n",
    "    # reset the index so we don't confuse ourselves or our plotting backend.\n",
    "    df_bar = df_bar.groupby(['Month', 'Years']).mean().reset_index()\n",
    "\n",
    "    # now that everything is grouped and we have the mean for the pageviews,\n",
    "    # set the values for the \"Month\" column to actual month names.\n",
    "    df_bar['Month'] = df_bar['Month'].apply(lambda t: month_labels[int(t) - 1])\n",
    "\n",
    "    # Use seaborn to draw the plot.\n",
    "    fig = sns.catplot(\n",
    "        data=df_bar,\n",
    "        x='Years',\n",
    "        y='Average Page Views',\n",
    "        kind='bar',\n",
    "        hue='Month',\n",
    "        legend_out=False\n",
    "    )\n",
    "\n",
    "    # Need to set the return value to \"fig.fig\" because we used a seaborn figure-level function,\n",
    "    # And the actual matplotlib figure is a property of the returned object.\n",
    "    fig = fig.fig\n",
    "    \n",
    "    fig.savefig('bar_plot.png')\n",
    "    return fig\n",
    "\n",
    "# test case:\n",
    "\n",
    "draw_bar_plot()"
   ]
  },
  {
   "attachments": {},
   "cell_type": "markdown",
   "metadata": {},
   "source": [
    "# Draw two box plots:\n",
    "\n",
    "From the project requirements page:\n",
    "\n",
    "- First box plot should show value distribution by year\n",
    "- First box plot should be titled 'Year-wise Box Plot (Trend)'\n",
    "- Second box plot should show value distribution by month\n",
    "- Second box plot should be titled 'Month-wise Box Plot (Seasonality)'\n",
    "- Month labels should start at \"Jan\"\n"
   ]
  },
  {
   "cell_type": "code",
   "execution_count": null,
   "metadata": {},
   "outputs": [],
   "source": [
    "def draw_box_plot():\n",
    "    # Prepare data for box plots (this part is done!)\n",
    "    working_df_box = df.copy()\n",
    "    working_df_box.reset_index(inplace=True)\n",
    "    working_df_box['year'] = [d.year for d in working_df_box.date]\n",
    "    working_df_box['m'] = [d.month for d in working_df_box.date]\n",
    "    working_df_box.sort_values('m', inplace=True)\n",
    "    df_box = pd.DataFrame(\n",
    "        {\n",
    "            'Month': working_df_box['m'].apply(lambda t: month_labels[t - 1][:3]),\n",
    "            'Year': working_df_box['year'],\n",
    "            'Page Views': working_df_box['value']\n",
    "        }\n",
    "    )\n",
    "\n",
    "    # Draw box plots (using Seaborn)\n",
    "    fig, axes = plt.subplots(1, 2, figsize=(16, 7))\n",
    "    axes[0].set_title('Year-wise Box Plot (Trend)')\n",
    "    axes[1].set_title('Month-wise Box Plot (Seasonality)')\n",
    "    sns.boxplot(data=df_box, ax=axes[0], x='Year', y='Page Views')\n",
    "    sns.boxplot(data=df_box, ax=axes[1], x='Month', y='Page Views')\n",
    "\n",
    "    # Save image and return fig (don't change this part)\n",
    "    fig.savefig('box_plot.png')\n",
    "    return fig\n",
    "\n",
    "# test case:\n",
    "\n",
    "draw_box_plot()"
   ]
  }
 ],
 "metadata": {
  "kernelspec": {
   "display_name": "Python 3.11.0 64-bit",
   "language": "python",
   "name": "python3"
  },
  "language_info": {
   "codemirror_mode": {
    "name": "ipython",
    "version": 3
   },
   "file_extension": ".py",
   "mimetype": "text/x-python",
   "name": "python",
   "nbconvert_exporter": "python",
   "pygments_lexer": "ipython3",
   "version": "3.11.0 (main, Oct 24 2022, 18:26:48) [MSC v.1933 64 bit (AMD64)]"
  },
  "orig_nbformat": 4,
  "vscode": {
   "interpreter": {
    "hash": "4c4a3c6585647fea4a20f24b44be65ecfaf80ad5245fc9f49e4ad0d4ab0d6cf2"
   }
  }
 },
 "nbformat": 4,
 "nbformat_minor": 2
}
