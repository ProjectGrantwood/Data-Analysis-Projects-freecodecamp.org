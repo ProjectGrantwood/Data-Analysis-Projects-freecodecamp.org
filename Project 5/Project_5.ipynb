{
 "cells": [
  {
   "attachments": {},
   "cell_type": "markdown",
   "metadata": {},
   "source": [
    "# Data Analysis in Python\n",
    "\n",
    "## Certification Project 5: \"Sea Level Prediction\"\n",
    "\n",
    "### from [FreeCodeCamp.org](https://www.freecodecamp.org)\n"
   ]
  },
  {
   "attachments": {},
   "cell_type": "markdown",
   "metadata": {},
   "source": [
    "### [Click here for an Overview of Project Requirements](https://www.freecodecamp.org/learn/data-analysis-with-python/data-analysis-with-python-projects/sea-level-predictor)\n"
   ]
  },
  {
   "cell_type": "code",
   "execution_count": 1,
   "metadata": {},
   "outputs": [],
   "source": [
    "# Imports\n",
    "import pandas as pd\n",
    "import matplotlib.pyplot as plt\n",
    "import numpy as np\n",
    "from scipy.stats import linregress"
   ]
  },
  {
   "cell_type": "code",
   "execution_count": 28,
   "metadata": {},
   "outputs": [],
   "source": [
    "def draw_plot():\n",
    "    # Read data from file\n",
    "    df = pd.read_csv('epa-sea-level.csv')\n",
    "\n",
    "    # Create scatter plot\n",
    "    ax = plt.subplots(figsize=(14, 6))[1]\n",
    "    # *** In addition, I'm setting x and y limits on the plot axes to pass all automated tests\n",
    "    ax.set_xlim(left=1850, right=2075)\n",
    "    ax.set_ylim(bottom=-1, top=17)\n",
    "    ax.scatter(df['Year'], df['CSIRO Adjusted Sea Level'], 4, c='b')\n",
    "\n",
    "    # Create first line of best fit\n",
    "    linreg_1 = linregress(df['Year'], df['CSIRO Adjusted Sea Level'])\n",
    "    # *** Using ax.add_line to meet the project requirements that the regression line data\n",
    "    # *** conform to a specific size with exact values.\n",
    "    # *** In practice, I think ax.axes.axline looks better, and is also quicker to code\n",
    "    # *** because it can take a point tuple and a slope as a parameter, eliminating the need for the lower-level\n",
    "    # *** math you see in the lines below.\n",
    "    l1_xdata = np.linspace(1880, 2050, 171)\n",
    "    l1_ydata = np.linspace(1880 * linreg_1.slope + linreg_1.intercept, linreg_1.slope * 2050 + linreg_1.intercept, 171)\n",
    "    ax.add_line(plt.Line2D(l1_xdata, l1_ydata, color='w', linestyle=':'))\n",
    "\n",
    "    # Create second line of best fit\n",
    "    df_recent = df[df['Year'] >= 2000]\n",
    "    linreg_2 = linregress(df_recent['Year'], df_recent['CSIRO Adjusted Sea Level'])\n",
    "    l2_xdata = np.linspace(2000, 2050, 51)\n",
    "    l2_ydata = np.linspace(2000 *linreg_2.slope + linreg_2.intercept, linreg_2.slope * 2050 + linreg_2.intercept, 51)\n",
    "    ax.add_line(plt.Line2D(l2_xdata, l2_ydata, color=\"y\", linestyle=\":\"))\n",
    "\n",
    "    # Add labels and title\n",
    "    ax.set_title('Rise in Sea Level')\n",
    "    ax.set_xlabel('Year')\n",
    "    ax.set_ylabel('Sea Level (inches)')\n",
    "    \n",
    "    # *** I added a legend for completeness.\n",
    "    ax.legend(['Sea level by year', 'Regression line from 1880', 'Regression line from 2000'])\n",
    "\n",
    "    # Save plot and return data for testing (DO NOT MODIFY)\n",
    "    plt.savefig('sea_level_plot.png')\n",
    "    return plt.gca(), ax"
   ]
  }
 ],
 "metadata": {
  "kernelspec": {
   "display_name": "Python 3.11.0 64-bit",
   "language": "python",
   "name": "python3"
  },
  "language_info": {
   "codemirror_mode": {
    "name": "ipython",
    "version": 3
   },
   "file_extension": ".py",
   "mimetype": "text/x-python",
   "name": "python",
   "nbconvert_exporter": "python",
   "pygments_lexer": "ipython3",
   "version": "3.11.0"
  },
  "orig_nbformat": 4,
  "vscode": {
   "interpreter": {
    "hash": "4c4a3c6585647fea4a20f24b44be65ecfaf80ad5245fc9f49e4ad0d4ab0d6cf2"
   }
  }
 },
 "nbformat": 4,
 "nbformat_minor": 2
}
