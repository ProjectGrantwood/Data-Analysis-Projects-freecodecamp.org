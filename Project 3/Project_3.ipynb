{
 "cells": [
  {
   "attachments": {},
   "cell_type": "markdown",
   "metadata": {},
   "source": [
    "# Certification Project 3: \"Medical Data Visualizer\"\n",
    "___\n",
    "### from the Data Analysis With Python Certification at [FreeCodeCamp.org](https://www.freecodecamp.org)\n",
    "\n",
    "## Some important links:  \n",
    "\n",
    "- [Overview of Project Requirements](https://www.freecodecamp.org/learn/data-analysis-with-python/data-analysis-with-python-projects/medical-data-visualizer)\n",
    "- [Passing submission hosted on Replit](https://replit.com/@ExPhilidelphiae/boilerplate-medical-data-visualizer#medical_data_visualizer.py)\n"
   ]
  },
  {
   "cell_type": "code",
   "execution_count": null,
   "metadata": {},
   "outputs": [],
   "source": [
    "# Imports\n",
    "\n",
    "import pandas as pd\n",
    "import seaborn as sns\n",
    "import matplotlib.pyplot as plt\n",
    "import matplotlib\n",
    "import numpy as np\n"
   ]
  },
  {
   "cell_type": "markdown",
   "metadata": {},
   "source": [
    "## Project Exercises:\n"
   ]
  },
  {
   "cell_type": "code",
   "execution_count": 13,
   "metadata": {},
   "outputs": [],
   "source": [
    "# Function to import and normalize data, as well as calculate the \"overweight\" column.\n",
    "# I extracted this to a function to avoid remapping values more than once when working on the exercises,\n",
    "# which usually happened by running notebook cells out of order.\n",
    "def prepare_df():\n",
    "    df = pd.read_csv('medical_examination.csv')\n",
    "    # Add 'overweight' column\n",
    "    # Weight in kg / (height in meters)^2\n",
    "    # >25 is overweight\n",
    "    # map the resulting boolean series to 0s and 1s as per project instructions\n",
    "    df['overweight'] = (df['weight'] / ((df['height'] / 100) ** 2) > 25).map({True: 1, False: 0})\n",
    "\n",
    "    # Normalize data by making 0 always good and 1 always bad. If the value of 'cholesterol' or 'gluc' is 1, make the value 0. If the value is more than 1, make the value 1.\n",
    "    df['cholesterol'] = df['cholesterol'].map({0: 0, 1: 0, 2: 1, 3: 1})\n",
    "    df['gluc'] = df['gluc'].map({1: 0, 2: 1, 3: 1})\n",
    "    return df"
   ]
  },
  {
   "cell_type": "markdown",
   "metadata": {},
   "source": [
    "### Function for drawing a Seaborn catplot of the data:"
   ]
  },
  {
   "cell_type": "code",
   "execution_count": 24,
   "metadata": {},
   "outputs": [],
   "source": [
    "# Draw Categorical Plot\n",
    "def draw_cat_plot():\n",
    "    df = prepare_df()\n",
    "    # Create DataFrame for cat plot using `pd.melt` using just the values from 'cholesterol', 'gluc', 'smoke', 'alco', 'active', and 'overweight'\n",
    "    # I want to melt it by 'cardio' as well to accomplish the next step.\n",
    "    df_cat = pd.melt(df.filter(['cholesterol', 'gluc', 'alco', 'active', 'overweight', 'cardio']), id_vars=['cardio'])\n",
    "    \n",
    "    # Group and reformat the data to split it by 'cardio'. Show the counts of each feature. You will have to rename one of the columns for the catplot to work correctly.\n",
    "    # The comment above from FreeCodeCamp strikes me as misleading, as the catplot works fine without renaming the column,\n",
    "    # it just doesn't meet the project requirements.\n",
    "    df_cat = df_cat.value_counts(sort=False).to_frame().reset_index()\n",
    "    df_cat.rename(columns={0: 'total'}, inplace=True)\n",
    "    \n",
    "    # Draw the catplot with 'sns.catplot()'\n",
    "    sns.catplot(df_cat, x='variable', y='total', hue='value', col='cardio', kind='bar')\n",
    "\n",
    "    # Get the figure for the output\n",
    "    fig = plt.figure()\n",
    "\n",
    "\n",
    "    # Do not modify the next two lines\n",
    "    fig.savefig('catplot.png')\n",
    "    return fig\n",
    "\n",
    "# test case:\n",
    "\n",
    "draw_cat_plot()"
   ]
  },
  {
   "cell_type": "markdown",
   "metadata": {},
   "source": [
    "### Function for drawing a Seaborn heatmap of the data:"
   ]
  },
  {
   "cell_type": "code",
   "execution_count": 26,
   "metadata": {},
   "outputs": [],
   "source": [
    "# Draw Heat Map\n",
    "def draw_heat_map():\n",
    "    df = prepare_df()\n",
    "    # Clean the data\n",
    "    # only use data where ap-lo <= ap-hi\n",
    "    # trim the outliers from height and weight (below the 2.5 percentile or above 97.5 percentile)\n",
    "    # this was required only for this particular function, but I would probably extract it to its own function\n",
    "    # when working with data in the real world as not to pollute the original data frame.\n",
    "    df_heat = df[(df['ap_lo'] <= df['ap_hi']) \n",
    "    & (df['height'] >= df['height'].quantile(0.025)) \n",
    "    & (df['height'] <= df['height'].quantile(0.975)) \n",
    "    & (df['weight'] >= df['weight'].quantile(0.025)) \n",
    "    & (df['weight'] <= df['weight'].quantile(0.975))]\n",
    "\n",
    "    # Calculate the correlation matrix\n",
    "    corr = df_heat.corr()\n",
    "\n",
    "    # Generate a mask for the upper triangle\n",
    "    mask = mask = np.triu(np.ones_like(corr, dtype=bool))\n",
    "    corr.mask(mask, inplace=True)\n",
    "\n",
    "    # Set up the matplotlib figure\n",
    "    fig, ax = plt.subplots()\n",
    "    sns.heatmap(corr, annot=True, fmt=\".1f\", ax = ax)\n",
    "    ax.set_title(\"Cardiovascular Disease Risk - Correlation Heatmap\")\n",
    "    \n",
    "    # Do not modify the next two lines\n",
    "    fig.savefig('heatmap.png')\n",
    "    return fig\n",
    "\n",
    "#test case:\n",
    "\n",
    "draw_heat_map()"
   ]
  }
 ],
 "metadata": {
  "kernelspec": {
   "display_name": "Python 3.11.0 64-bit",
   "language": "python",
   "name": "python3"
  },
  "language_info": {
   "codemirror_mode": {
    "name": "ipython",
    "version": 3
   },
   "file_extension": ".py",
   "mimetype": "text/x-python",
   "name": "python",
   "nbconvert_exporter": "python",
   "pygments_lexer": "ipython3",
   "version": "3.11.0 (main, Oct 24 2022, 18:26:48) [MSC v.1933 64 bit (AMD64)]"
  },
  "orig_nbformat": 4,
  "vscode": {
   "interpreter": {
    "hash": "4c4a3c6585647fea4a20f24b44be65ecfaf80ad5245fc9f49e4ad0d4ab0d6cf2"
   }
  }
 },
 "nbformat": 4,
 "nbformat_minor": 2
}
