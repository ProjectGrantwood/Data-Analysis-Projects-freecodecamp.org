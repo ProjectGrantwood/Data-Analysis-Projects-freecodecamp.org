{
 "cells": [
  {
   "attachments": {},
   "cell_type": "markdown",
   "metadata": {},
   "source": [
    "# Data Analysis in Python \n",
    "## Certification Project 1: \"Mean, Variance, and Standard Deviation Calculator\"\n",
    "### from [FreeCodeCamp.org](https://www.freecodecamp.org)\n"
   ]
  },
  {
   "attachments": {},
   "cell_type": "markdown",
   "metadata": {},
   "source": [
    "\n",
    "##### [Cick for an Overview of Project Requirements](https://www.freecodecamp.org/learn/data-analysis-with-python/data-analysis-with-python-projects/mean-variance-standard-deviation-calculator)\n"
   ]
  },
  {
   "cell_type": "code",
   "execution_count": 1,
   "metadata": {},
   "outputs": [],
   "source": [
    "# Imports\n",
    "\n",
    "import numpy as np\n",
    "import numpy.random as random\n",
    "import pandas as pd"
   ]
  },
  {
   "cell_type": "markdown",
   "metadata": {},
   "source": [
    "## The function body:"
   ]
  },
  {
   "cell_type": "code",
   "execution_count": 2,
   "metadata": {},
   "outputs": [],
   "source": [
    "def calculate(input):\n",
    "    \n",
    "    # Initialize an empty variable that may or may not represent our 3x3 matrix.\n",
    "    \n",
    "    input_3by3 = None\n",
    "    \n",
    "    # Try reshaping input to a 3x3 matrix and assigning it to input_3by3...\n",
    "    # throwing an exception if the reshape fails.\n",
    "    # This ensures only a 9-element list will get through\n",
    "    # because the only number with a prime factorization of (3, 3) is 9.\n",
    "    # No other point to this except to combine the try...except block \n",
    "    # with the variable assignment; testing for the input's length \n",
    "    # could also work and would require about the same amount of code.\n",
    "    \n",
    "    try: \n",
    "        input_3by3 = np.reshape(input, (3, 3))\n",
    "    except ValueError:\n",
    "        raise ValueError(\"List must contain nine numbers.\")\n",
    "        \n",
    "    # initialize a dict of empty lists to populate.\n",
    "        \n",
    "    stats = {\n",
    "        'mean': [],\n",
    "        'variance': [],\n",
    "        'standard deviation': [],\n",
    "        'max': [],\n",
    "        'min': [],\n",
    "        'sum': []\n",
    "    }\n",
    "    \n",
    "    # iterate through the matrix data 3 times: twice with the axis set to the iteration count,\n",
    "    # the third time with the axis set to None (resulting in a whole matrix calculation).\n",
    "    # chain the cast back to a Python List right then and there.\n",
    "    \n",
    "    for i in range(3):\n",
    "        selected_axis = i if i < 2 else None\n",
    "        stats['mean'].append(input_3by3.mean(axis=selected_axis).tolist())\n",
    "        stats['variance'].append(input_3by3.var(axis=selected_axis).tolist())\n",
    "        stats['standard deviation'].append(input_3by3.std(axis=selected_axis).tolist())\n",
    "        stats['max'].append(input_3by3.max(axis=selected_axis).tolist())\n",
    "        stats['min'].append(input_3by3.min(axis=selected_axis).tolist())\n",
    "        stats['sum'].append(input_3by3.sum(axis=selected_axis).tolist())\n",
    "        \n",
    "    # here's your piping hot stat dictionary, ready to consume before John Oliver comes on!\n",
    "\n",
    "    return stats"
   ]
  },
  {
   "cell_type": "markdown",
   "metadata": {},
   "source": [
    "## Some test cases:"
   ]
  },
  {
   "cell_type": "code",
   "execution_count": 3,
   "metadata": {},
   "outputs": [],
   "source": [
    "# So we can store a range of length 9 without recreating it:\n",
    "\n",
    "r9 = range(9)"
   ]
  },
  {
   "cell_type": "code",
   "execution_count": 4,
   "metadata": {},
   "outputs": [
    {
     "name": "stdout",
     "output_type": "stream",
     "text": [
      "Flat Distribution: \n",
      " \n",
      " {'mean': [[3.0, 4.0, 5.0], [1.0, 4.0, 7.0], 4.0], 'variance': [[6.0, 6.0, 6.0], [0.6666666666666666, 0.6666666666666666, 0.6666666666666666], 6.666666666666667], 'standard deviation': [[2.449489742783178, 2.449489742783178, 2.449489742783178], [0.816496580927726, 0.816496580927726, 0.816496580927726], 2.581988897471611], 'max': [[6, 7, 8], [2, 5, 8], 8], 'min': [[0, 1, 2], [0, 3, 6], 0], 'sum': [[9, 12, 15], [3, 12, 21], 36]}\n"
     ]
    }
   ],
   "source": [
    "flat_distribution = calculate(r9)\n",
    "print('Flat Distribution: \\n \\n', flat_distribution)"
   ]
  },
  {
   "cell_type": "code",
   "execution_count": 5,
   "metadata": {},
   "outputs": [
    {
     "name": "stdout",
     "output_type": "stream",
     "text": [
      "Random Integers Less Than 10: \n",
      " \n",
      " {'mean': [[6.666666666666667, 5.666666666666667, 2.3333333333333335], [6.0, 4.666666666666667, 4.0], 4.888888888888889], 'variance': [[2.888888888888889, 5.5555555555555545, 0.8888888888888888], [6.0, 10.888888888888891, 0.6666666666666666], 6.54320987654321], 'standard deviation': [[1.699673171197595, 2.357022603955158, 0.9428090415820634], [2.449489742783178, 3.299831645537222, 0.816496580927726], 2.5579698740491863], 'max': [[9, 9, 3], [9, 9, 5], 9], 'min': [[5, 4, 1], [3, 1, 3], 1], 'sum': [[20, 17, 7], [18, 14, 12], 44]}\n"
     ]
    }
   ],
   "source": [
    "random_integers = calculate([random.randint(10) for num in r9])\n",
    "print('Random Integers Less Than 10: \\n \\n', random_integers)"
   ]
  },
  {
   "cell_type": "markdown",
   "metadata": {},
   "source": [
    "## And a test case showing successful throw of the exception:"
   ]
  },
  {
   "cell_type": "code",
   "execution_count": 6,
   "metadata": {},
   "outputs": [
    {
     "ename": "ValueError",
     "evalue": "List must contain nine numbers.",
     "output_type": "error",
     "traceback": [
      "\u001b[1;31m---------------------------------------------------------------------------\u001b[0m",
      "\u001b[1;31mValueError\u001b[0m                                Traceback (most recent call last)",
      "Cell \u001b[1;32mIn [2], line 16\u001b[0m, in \u001b[0;36mcalculate\u001b[1;34m(input)\u001b[0m\n\u001b[0;32m     15\u001b[0m \u001b[39mtry\u001b[39;00m: \n\u001b[1;32m---> 16\u001b[0m     input_3by3 \u001b[39m=\u001b[39m np\u001b[39m.\u001b[39;49mreshape(\u001b[39minput\u001b[39;49m, (\u001b[39m3\u001b[39;49m, \u001b[39m3\u001b[39;49m))\n\u001b[0;32m     17\u001b[0m \u001b[39mexcept\u001b[39;00m \u001b[39mValueError\u001b[39;00m:\n",
      "File \u001b[1;32m<__array_function__ internals>:180\u001b[0m, in \u001b[0;36mreshape\u001b[1;34m(*args, **kwargs)\u001b[0m\n",
      "File \u001b[1;32mc:\\Users\\justi\\AppData\\Local\\Programs\\Python\\Python311\\Lib\\site-packages\\numpy\\core\\fromnumeric.py:298\u001b[0m, in \u001b[0;36mreshape\u001b[1;34m(a, newshape, order)\u001b[0m\n\u001b[0;32m    200\u001b[0m \u001b[39m\"\"\"\u001b[39;00m\n\u001b[0;32m    201\u001b[0m \u001b[39mGives a new shape to an array without changing its data.\u001b[39;00m\n\u001b[0;32m    202\u001b[0m \n\u001b[1;32m   (...)\u001b[0m\n\u001b[0;32m    296\u001b[0m \u001b[39m       [5, 6]])\u001b[39;00m\n\u001b[0;32m    297\u001b[0m \u001b[39m\"\"\"\u001b[39;00m\n\u001b[1;32m--> 298\u001b[0m \u001b[39mreturn\u001b[39;00m _wrapfunc(a, \u001b[39m'\u001b[39;49m\u001b[39mreshape\u001b[39;49m\u001b[39m'\u001b[39;49m, newshape, order\u001b[39m=\u001b[39;49morder)\n",
      "File \u001b[1;32mc:\\Users\\justi\\AppData\\Local\\Programs\\Python\\Python311\\Lib\\site-packages\\numpy\\core\\fromnumeric.py:54\u001b[0m, in \u001b[0;36m_wrapfunc\u001b[1;34m(obj, method, *args, **kwds)\u001b[0m\n\u001b[0;32m     53\u001b[0m \u001b[39mif\u001b[39;00m bound \u001b[39mis\u001b[39;00m \u001b[39mNone\u001b[39;00m:\n\u001b[1;32m---> 54\u001b[0m     \u001b[39mreturn\u001b[39;00m _wrapit(obj, method, \u001b[39m*\u001b[39;49margs, \u001b[39m*\u001b[39;49m\u001b[39m*\u001b[39;49mkwds)\n\u001b[0;32m     56\u001b[0m \u001b[39mtry\u001b[39;00m:\n",
      "File \u001b[1;32mc:\\Users\\justi\\AppData\\Local\\Programs\\Python\\Python311\\Lib\\site-packages\\numpy\\core\\fromnumeric.py:43\u001b[0m, in \u001b[0;36m_wrapit\u001b[1;34m(obj, method, *args, **kwds)\u001b[0m\n\u001b[0;32m     42\u001b[0m     wrap \u001b[39m=\u001b[39m \u001b[39mNone\u001b[39;00m\n\u001b[1;32m---> 43\u001b[0m result \u001b[39m=\u001b[39m \u001b[39mgetattr\u001b[39;49m(asarray(obj), method)(\u001b[39m*\u001b[39;49margs, \u001b[39m*\u001b[39;49m\u001b[39m*\u001b[39;49mkwds)\n\u001b[0;32m     44\u001b[0m \u001b[39mif\u001b[39;00m wrap:\n",
      "\u001b[1;31mValueError\u001b[0m: cannot reshape array of size 7 into shape (3,3)",
      "\nDuring handling of the above exception, another exception occurred:\n",
      "\u001b[1;31mValueError\u001b[0m                                Traceback (most recent call last)",
      "Cell \u001b[1;32mIn [6], line 1\u001b[0m\n\u001b[1;32m----> 1\u001b[0m calculate(\u001b[39mrange\u001b[39;49m(\u001b[39m7\u001b[39;49m))\n",
      "Cell \u001b[1;32mIn [2], line 18\u001b[0m, in \u001b[0;36mcalculate\u001b[1;34m(input)\u001b[0m\n\u001b[0;32m     16\u001b[0m     input_3by3 \u001b[39m=\u001b[39m np\u001b[39m.\u001b[39mreshape(\u001b[39minput\u001b[39m, (\u001b[39m3\u001b[39m, \u001b[39m3\u001b[39m))\n\u001b[0;32m     17\u001b[0m \u001b[39mexcept\u001b[39;00m \u001b[39mValueError\u001b[39;00m:\n\u001b[1;32m---> 18\u001b[0m     \u001b[39mraise\u001b[39;00m \u001b[39mValueError\u001b[39;00m(\u001b[39m\"\u001b[39m\u001b[39mList must contain nine numbers.\u001b[39m\u001b[39m\"\u001b[39m)\n\u001b[0;32m     20\u001b[0m \u001b[39m# initialize a dict of empty lists to populate.\u001b[39;00m\n\u001b[0;32m     22\u001b[0m stats \u001b[39m=\u001b[39m {\n\u001b[0;32m     23\u001b[0m     \u001b[39m'\u001b[39m\u001b[39mmean\u001b[39m\u001b[39m'\u001b[39m: [],\n\u001b[0;32m     24\u001b[0m     \u001b[39m'\u001b[39m\u001b[39mvariance\u001b[39m\u001b[39m'\u001b[39m: [],\n\u001b[1;32m   (...)\u001b[0m\n\u001b[0;32m     28\u001b[0m     \u001b[39m'\u001b[39m\u001b[39msum\u001b[39m\u001b[39m'\u001b[39m: []\n\u001b[0;32m     29\u001b[0m }\n",
      "\u001b[1;31mValueError\u001b[0m: List must contain nine numbers."
     ]
    }
   ],
   "source": [
    "calculate(range(7))"
   ]
  }
 ],
 "metadata": {
  "kernelspec": {
   "display_name": "Python 3.11.0 64-bit",
   "language": "python",
   "name": "python3"
  },
  "language_info": {
   "codemirror_mode": {
    "name": "ipython",
    "version": 3
   },
   "file_extension": ".py",
   "mimetype": "text/x-python",
   "name": "python",
   "nbconvert_exporter": "python",
   "pygments_lexer": "ipython3",
   "version": "3.11.0 (main, Oct 24 2022, 18:26:48) [MSC v.1933 64 bit (AMD64)]"
  },
  "orig_nbformat": 4,
  "vscode": {
   "interpreter": {
    "hash": "4c4a3c6585647fea4a20f24b44be65ecfaf80ad5245fc9f49e4ad0d4ab0d6cf2"
   }
  }
 },
 "nbformat": 4,
 "nbformat_minor": 2
}
